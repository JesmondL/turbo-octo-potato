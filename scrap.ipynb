{
 "cells": [
  {
   "cell_type": "code",
   "execution_count": 3,
   "metadata": {},
   "outputs": [],
   "source": [
    "import time, urllib.request, json, requests, datetime\n",
    "from bs4 import BeautifulSoup \n",
    "import os\n",
    "# os.chdir(os.path.dirname(os.path.realpath(__file__)))"
   ]
  },
  {
   "cell_type": "code",
   "execution_count": 86,
   "metadata": {},
   "outputs": [],
   "source": [
    "jsonYmap = {\n",
    "    \"Ticker\":\"\",\n",
    "    \"Previous close\":\"PREV_CLOSE-value\",\n",
    "    \"Open\":\"OPEN-value\",\n",
    "    \"Bid\":\"BID-value\",\n",
    "    \"Ask\":\"ASK-value\",\n",
    "    \"Day's range\":\"DAYS_RANGE-value\",\n",
    "    \"52-week range\":\"FIFTY_TWO_WK_RANGE-value\",\n",
    "    \"Volume\":\"TD_VOLUME-value\",\n",
    "    \"Avg. volume\":\"AVERAGE_VOLUME_3MONTH-value\",\n",
    "    \"Market cap\":\"MARKET_CAP-value\",\n",
    "    \"Beta (3Y monthly)\":\"BETA_3Y-value\",\n",
    "    \"PE ratio (TTM)\":\"PE_RATIO-value\",\n",
    "    \"EPS (TTM)\":\"EPS_RATIO-value\",\n",
    "    \"Forward dividend &amp; yield\":\"DIVIDEND_AND_YIELD-value\"\n",
    "}\n",
    "d = {} # data placeholder\n",
    "page = urllib.request.urlopen('https://sg.finance.yahoo.com/quote/Z74.SI?p=Z74.SI&.tsrc=fin-srch-v1')\n",
    "soup = BeautifulSoup(page, \"lxml\")"
   ]
  },
  {
   "cell_type": "code",
   "execution_count": 87,
   "metadata": {},
   "outputs": [],
   "source": [
    "for index, item in enumerate (jsonYmap):\n",
    "    if item == \"Ticker\":\n",
    "        jsonYmap[item] = soup.find(\"h1\").text\n",
    "    else:\n",
    "        jsonYmap[item] = soup.find(\"td\", attrs={\"data-test\":jsonYmap[item]}).text"
   ]
  },
  {
   "cell_type": "code",
   "execution_count": 89,
   "metadata": {},
   "outputs": [
    {
     "data": {
      "text/plain": [
       "{'Ticker': 'Z74.SI - Singapore Telecommunications Limited',\n",
       " 'Previous close': '2.9800',\n",
       " 'Open': '3.0100',\n",
       " 'Bid': '3.0100 x 0',\n",
       " 'Ask': '3.0100 x 0',\n",
       " \"Day's range\": '3.0000 - 3.0200',\n",
       " '52-week range': '2.8300 - 3.5800',\n",
       " 'Volume': '6,569,900',\n",
       " 'Avg. volume': '15,552,095',\n",
       " 'Market cap': '49.292B',\n",
       " 'Beta (3Y monthly)': '0.63',\n",
       " 'PE ratio (TTM)': '16.06',\n",
       " 'EPS (TTM)': '0.1880',\n",
       " 'Forward dividend &amp; yield': '0.14 (4.56%)'}"
      ]
     },
     "execution_count": 89,
     "metadata": {},
     "output_type": "execute_result"
    }
   ],
   "source": [
    "jsonYmap"
   ]
  },
  {
   "cell_type": "code",
   "execution_count": 90,
   "metadata": {},
   "outputs": [],
   "source": [
    "jd = json.dumps(jsonYmap)"
   ]
  },
  {
   "cell_type": "code",
   "execution_count": 94,
   "metadata": {},
   "outputs": [
    {
     "data": {
      "text/plain": [
       "'{\"Ticker\": \"Z74.SI - Singapore Telecommunications Limited\", \"Previous close\": \"2.9800\", \"Open\": \"3.0100\", \"Bid\": \"3.0100 x 0\", \"Ask\": \"3.0100 x 0\", \"Day\\'s range\": \"3.0000 - 3.0200\", \"52-week range\": \"2.8300 - 3.5800\", \"Volume\": \"6,569,900\", \"Avg. volume\": \"15,552,095\", \"Market cap\": \"49.292B\", \"Beta (3Y monthly)\": \"0.63\", \"PE ratio (TTM)\": \"16.06\", \"EPS (TTM)\": \"0.1880\", \"Forward dividend &amp; yield\": \"0.14 (4.56%)\"}'"
      ]
     },
     "execution_count": 94,
     "metadata": {},
     "output_type": "execute_result"
    }
   ],
   "source": [
    "jd"
   ]
  },
  {
   "cell_type": "code",
   "execution_count": 18,
   "metadata": {},
   "outputs": [],
   "source": [
    "right_box = soup.find(\"div\", attrs={\"data-test\":\"right-summary-table\"})\n",
    "right_box = right_box.find_all(\"span\")"
   ]
  },
  {
   "cell_type": "code",
   "execution_count": 19,
   "metadata": {},
   "outputs": [
    {
     "data": {
      "text/plain": [
       "[<span data-reactid=\"53\">Market cap</span>,\n",
       " <span class=\"Trsdu(0.3s) \" data-reactid=\"55\">49.129B</span>,\n",
       " <span data-reactid=\"58\">Beta (3Y monthly)</span>,\n",
       " <span class=\"Trsdu(0.3s) \" data-reactid=\"60\">0.63</span>,\n",
       " <span data-reactid=\"63\">PE ratio (TTM)</span>,\n",
       " <span class=\"Trsdu(0.3s) \" data-reactid=\"65\">16.01</span>,\n",
       " <span data-reactid=\"68\">EPS (TTM)</span>,\n",
       " <span class=\"Trsdu(0.3s) \" data-reactid=\"70\">0.1880</span>,\n",
       " <span data-reactid=\"73\">Earnings date</span>,\n",
       " <span data-reactid=\"75\">13 May 2019</span>,\n",
       " <span data-reactid=\"77\">17 May 2019</span>,\n",
       " <span data-reactid=\"80\">Forward dividend &amp; yield</span>,\n",
       " <span data-reactid=\"84\">Ex-dividend date</span>,\n",
       " <span class=\"Trsdu(0.3s) \" data-reactid=\"86\">2018-12-18</span>,\n",
       " <span data-reactid=\"89\">1y target est</span>,\n",
       " <span class=\"Trsdu(0.3s) \" data-reactid=\"91\">3.70</span>]"
      ]
     },
     "execution_count": 19,
     "metadata": {},
     "output_type": "execute_result"
    }
   ],
   "source": [
    "right_box"
   ]
  },
  {
   "cell_type": "code",
   "execution_count": 12,
   "metadata": {},
   "outputs": [
    {
     "data": {
      "text/plain": [
       "'1,2019-04-01 09:29:13'"
      ]
     },
     "execution_count": 12,
     "metadata": {},
     "output_type": "execute_result"
    }
   ],
   "source": [
    "datetime.datetime.now().strftime(\"%w,%Y-%m-%d %H:%M:%S\")"
   ]
  },
  {
   "cell_type": "code",
   "execution_count": 11,
   "metadata": {},
   "outputs": [
    {
     "name": "stdout",
     "output_type": "stream",
     "text": [
      "Start!\n"
     ]
    }
   ],
   "source": [
    "if (datetime.datetime.now().hour >= 9):\n",
    "    print (\"Start!\")"
   ]
  },
  {
   "cell_type": "code",
   "execution_count": null,
   "metadata": {},
   "outputs": [],
   "source": []
  }
 ],
 "metadata": {
  "kernelspec": {
   "display_name": "Python 3",
   "language": "python",
   "name": "python3"
  },
  "language_info": {
   "codemirror_mode": {
    "name": "ipython",
    "version": 3
   },
   "file_extension": ".py",
   "mimetype": "text/x-python",
   "name": "python",
   "nbconvert_exporter": "python",
   "pygments_lexer": "ipython3",
   "version": "3.6.7"
  }
 },
 "nbformat": 4,
 "nbformat_minor": 2
}
